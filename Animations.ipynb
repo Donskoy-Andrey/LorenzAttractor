{
 "cells": [
  {
   "cell_type": "code",
   "execution_count": 10,
   "id": "cf0c9b33",
   "metadata": {
    "scrolled": true
   },
   "outputs": [
    {
     "name": "stdout",
     "output_type": "stream",
     "text": [
      "Defaulting to user installation because normal site-packages is not writeable\n",
      "Requirement already satisfied: imageio in /home/user/.local/lib/python3.10/site-packages (2.22.1)\n",
      "Requirement already satisfied: pillow>=8.3.2 in /home/user/.local/lib/python3.10/site-packages (from imageio) (9.1.0)\n",
      "Requirement already satisfied: numpy in /home/user/.local/lib/python3.10/site-packages (from imageio) (1.23.2)\n",
      "Defaulting to user installation because normal site-packages is not writeable\n",
      "Requirement already satisfied: tqdm in /home/user/.local/lib/python3.10/site-packages (4.64.1)\n"
     ]
    }
   ],
   "source": [
    "!pip install imageio\n",
    "!pip install tqdm"
   ]
  },
  {
   "cell_type": "code",
   "execution_count": 11,
   "id": "8eea9311",
   "metadata": {},
   "outputs": [],
   "source": [
    "import matplotlib.pyplot as plt\n",
    "from matplotlib.animation import FuncAnimation\n",
    "from IPython.display import clear_output\n",
    "import re\n",
    "from tqdm import trange\n",
    "\n",
    "import glob\n",
    "import imageio.v2 as imageio"
   ]
  },
  {
   "cell_type": "code",
   "execution_count": 12,
   "id": "a4631648",
   "metadata": {},
   "outputs": [],
   "source": [
    "COLORS = ['r', 'g']"
   ]
  },
  {
   "cell_type": "code",
   "execution_count": 13,
   "id": "73710b25",
   "metadata": {},
   "outputs": [],
   "source": [
    "def create_fig(num: int = 0):\n",
    "    fig, ax = plt.subplots(3, 2,\n",
    "                           figsize=(17, 8), \n",
    "                           constrained_layout=True)\n",
    "    fig.suptitle(f\"Lorenz Attractor {num+1}\", fontsize=24)\n",
    "    \n",
    "    ax[0][0].set_xlabel(\"X Axis\")\n",
    "    ax[0][0].set_ylabel(\"Y Axis\")\n",
    "    \n",
    "    ax[1][0].set_xlabel(\"Y Axis\")\n",
    "    ax[1][0].set_ylabel(\"Z Axis\")\n",
    "    \n",
    "    ax[2][0].set_xlabel(\"X Axis\")\n",
    "    ax[2][0].set_ylabel(\"Z Axis\")\n",
    "    \n",
    "    for i in range(3):\n",
    "        ax[i][1].axis('off')\n",
    "    \n",
    "    ax2 = fig.add_subplot(1, 2, 2, projection='3d')\n",
    "    \n",
    "    ax2.set_xlabel(\"X Axis\")\n",
    "    ax2.set_ylabel(\"Y Axis\")\n",
    "    ax2.set_zlabel(\"Z Axis\")\n",
    "\n",
    "    return fig, ax, ax2"
   ]
  },
  {
   "cell_type": "code",
   "execution_count": 14,
   "id": "8bb2558e",
   "metadata": {},
   "outputs": [],
   "source": [
    "def draw(xs: list, ys: list, zs: list, fig, ax, ax2, num: int = 0) -> None:\n",
    "    ax[0][0].plot(xs, ys, lw=1, c = COLORS[num])\n",
    "    ax[1][0].plot(ys, zs, lw=1, c = COLORS[num])\n",
    "    ax[2][0].plot(xs, zs, lw=1, c = COLORS[num])\n",
    "    ax2.plot(xs, ys, zs, lw=1, c = COLORS[num])    "
   ]
  },
  {
   "cell_type": "code",
   "execution_count": 15,
   "id": "f8bc6759",
   "metadata": {},
   "outputs": [],
   "source": [
    "def parse_data(path):\n",
    "    xs, ys, zs = [], [], []\n",
    "\n",
    "    with open(path, 'r') as file:\n",
    "        for i, line in enumerate(file.readlines()):\n",
    "            x, y, z = line.strip().split(',')\n",
    "            xs.append(float(x))\n",
    "            ys.append(float(y))\n",
    "            zs.append(float(z))\n",
    "    return xs, ys, zs"
   ]
  },
  {
   "cell_type": "code",
   "execution_count": 25,
   "id": "aede0642",
   "metadata": {
    "scrolled": true
   },
   "outputs": [],
   "source": [
    "def create_gif(xs, ys, zs, num):\n",
    "    for i in trange(0, len(xs), len(xs) // 100):\n",
    "        fig, ax, ax2 = create_fig()\n",
    "        draw(xs[:i], ys[:i], zs[:i], fig, ax, ax2, num-1)\n",
    "\n",
    "        name = (4-len(str(i)))*'0' + str(i)\n",
    "        plt.savefig(f'images/gif/{name}.png')\n",
    "        plt.close()\n",
    "\n",
    "    files = glob.glob(\"images/gif/*.png\")\n",
    "    files.sort(key=lambda f: int(re.sub('\\D', '', f)))\n",
    "    \n",
    "    with imageio.get_writer(f'images/gif/Attractor-{num}.gif', mode='I') as writer:\n",
    "        for filename in files:\n",
    "            image = imageio.imread(filename)\n",
    "            writer.append_data(image)\n",
    "\n",
    "    !rm images/gif/*.png"
   ]
  },
  {
   "cell_type": "code",
   "execution_count": 26,
   "id": "ffccf34a",
   "metadata": {},
   "outputs": [
    {
     "name": "stderr",
     "output_type": "stream",
     "text": [
      "100%|█████████████████████████████████████████| 101/101 [01:04<00:00,  1.57it/s]\n",
      "100%|█████████████████████████████████████████| 101/101 [00:59<00:00,  1.68it/s]\n"
     ]
    }
   ],
   "source": [
    "def main(path, num):\n",
    "    xs, ys, zs = parse_data(path)\n",
    "    create_gif(xs, ys, zs, num)\n",
    "    \n",
    "    \n",
    "paths = ['data/data-1.txt', 'data/data-2.txt']\n",
    "for i, path in enumerate(paths):\n",
    "    main(path, i+1)"
   ]
  }
 ],
 "metadata": {
  "kernelspec": {
   "display_name": "Python 3 (ipykernel)",
   "language": "python",
   "name": "python3"
  },
  "language_info": {
   "codemirror_mode": {
    "name": "ipython",
    "version": 3
   },
   "file_extension": ".py",
   "mimetype": "text/x-python",
   "name": "python",
   "nbconvert_exporter": "python",
   "pygments_lexer": "ipython3",
   "version": "3.10.6"
  }
 },
 "nbformat": 4,
 "nbformat_minor": 5
}
